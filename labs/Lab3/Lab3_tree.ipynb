{
 "cells": [
  {
   "cell_type": "markdown",
   "metadata": {},
   "source": [
    "# Решающее дерево"
   ]
  },
  {
   "cell_type": "markdown",
   "metadata": {},
   "source": [
    "Отметим, что решающее дерево состоит из вершин, в которых записывает некоторое условие, а в листах дерева - прогноз. Условия во внутренних вершинах выбираются простыми. Наиболее частый вариант - проверка лежит ли значение некоторого признака $x^j$ левее порога $t$:\n",
    "\n",
    "$[x^j \\leq t]$\n",
    "\n",
    "Легко заметить, что такое условие зависит только от одного признака. Прогноз в листе является вещественным числом, если решается задача регрессии. Если же решается задача классификации, то в качестве прогноза выступает или класс или распределение вероятностей классов.\n",
    "\n",
    "Запишем некоторую функцию ошибки следующим образом: есть набор данных $X_m$, есть номер рассматриваемого признака $j$ и есть порог $t$.\n",
    "\n",
    "$L(X_m, j, t) \\rightarrow \\underset{j,t}{min}$\n",
    "\n",
    "Осуществим перебор всех возможных признаков $j$ и порогов $t$ для этих признаков. Каждый раз исходное множество будет разбиваться на два подмножества:\n",
    "\n",
    "$X_l = \\{x \\in X_m | [ x^j \\leq t ] \\}$ и $X_к = \\{x \\in X_m | [ x^j > t ] \\}$\n",
    "\n",
    "Такую процедуру можно продолжить для каждого получившегося множества (рекурсивно вызывать функцию деления для получающихся подмножеств).\n",
    "\n",
    "Необходимо отметить, что если вершина была объявлена листом, необходимо сделать прогноз для этого листа. Для задачи регрессии берется среднее значение по этой выборке,\n",
    "для задачи классификации возвращается тот класс, которые наиболее популярен в выборке. Можно указывать вероятность классов в листе.\n",
    "\n",
    "Для каждого разбиения необходимо расчитывать функцию потерь:\n",
    "\n",
    "$L(X_m, j, t) = \\frac{|X_l|}{|X_m|}H(X_l) + \\frac{|X_r|}{|X_m|}H(X_r)$,\n",
    "\n",
    "где $H(X)=\\sum\\limits_{k=1}^{K} p_k(1 - p_k)$ - критерий информативности Джинни.\n",
    "\n",
    "$p_k$ - доля объектов класса $k$ в выборке X:\n",
    "\n",
    "$p_k=\\frac{1}{|X|}\\sum\\limits_{i \\in X}{[y_i = k]}$\n",
    "\n",
    "В задаче работаем только с числовыми данными и строим дерево классификации.\n",
    "\n",
    "Данные сгенерированы случайным образом."
   ]
  },
  {
   "cell_type": "code",
   "execution_count": 1,
   "metadata": {},
   "outputs": [
    {
     "data": {
      "image/png": "[encoded data removed]",
      "text/plain": [
       "<matplotlib.figure.Figure at 0x213fae69940>"
      ]
     },
     "metadata": {},
     "output_type": "display_data"
    }
   ],
   "source": [
    "from sklearn.datasets import make_blobs, make_moons\n",
    "import matplotlib.pyplot as plt\n",
    "import numpy as np\n",
    "import pandas  as pd\n",
    "%matplotlib inline\n",
    "\n",
    "x, y = make_moons(n_samples=100, noise=0.1)\n",
    "plt.scatter(x[:,0], x[:,1], c = y)\n",
    "\n",
    "x_pd = pd.DataFrame(x)\n",
    "x_pd['y'] = y"
   ]
  },
  {
   "cell_type": "markdown",
   "metadata": {},
   "source": [
    "\n",
    "## Задание 1\n",
    "\n",
    "Напишите функцию, которая получает на вход матрицу данных ($x$) и целевые переменные ($y$), на выходе функция возвращает номер признака ($i$), порог разбиения($t$), значение в листовой вершине слева ($y_l$) и значение в листовой вершине справа ($y_r$).\n",
    "Постарайтесь учесть, что пороги разбиения должны лежать строго по середине между ближайшими обектами.\n",
    "\n",
    "Необходимо учесть:\n",
    "\n",
    "1. Разбиений не требуется, если в получившемся множестве находятся объекты одного класса.\n",
    "2. Количество различных классов объектов в целевой переменной может быть больше двух.\n"
   ]
  },
  {
   "cell_type": "markdown",
   "metadata": {},
   "source": [
    "1. Сортируем фичу, считаем пороги между значениями, потом делим множество по каждому порогу и определяем функцию потерь\n",
    "2. делаем это для всех фич\n",
    "3. берем фичу и порог с минимальной функцией потерь и делим исходное множество по ней, \n",
    "4. получившиеся множества снова делим по следующей фиче и соответствующему порогу с минимальной функцией потерь\n",
    "5. делаем это пока не закончатся фичи"
   ]
  },
  {
   "cell_type": "code",
   "execution_count": 2,
   "metadata": {
    "collapsed": true
   },
   "outputs": [],
   "source": [
    "#Получаем все пороговые значения для фичи (переделать чтобы датафрейм был параметром)\n",
    "\n",
    "def get_thresholds_by_feature(df,feature_name):\n",
    "    \n",
    "    thresholds = np.array([])\n",
    "    \n",
    "    df_sorted = np.array(df.sort_values(by=[feature_name]))\n",
    "    \n",
    "    for i in range(df_sorted.shape[0]-1):\n",
    "        threshold_value = (df_sorted[i][feature_name] + df_sorted[i+1][feature_name])/2\n",
    "        thresholds = np.append(thresholds,threshold_value)\n",
    "        \n",
    "    return thresholds"
   ]
  },
  {
   "cell_type": "code",
   "execution_count": 3,
   "metadata": {
    "collapsed": true
   },
   "outputs": [],
   "source": [
    "#ПОлучаем критерий Джинни\n",
    "\n",
    "def get_jinny(df):  \n",
    "    \n",
    "    jinny = 0\n",
    "    \n",
    "    for class_name in np.unique(y):\n",
    "        \n",
    "        pk = df[df==class_name].shape[0]/df.shape[0]\n",
    "        \n",
    "        jinny = jinny + pk * (1 - pk)\n",
    "    \n",
    "    return jinny"
   ]
  },
  {
   "cell_type": "code",
   "execution_count": 4,
   "metadata": {
    "collapsed": true
   },
   "outputs": [],
   "source": [
    "#Получаем функцию потерь\n",
    "\n",
    "def get_loss_function(df_left,df_right):\n",
    "    \n",
    "    df_left_len = df_left.shape[0]\n",
    "    df_right_len = df_right.shape[0]\n",
    "    df_len = df_left_len + df_right_len\n",
    "    \n",
    "    return df_left_len*get_jinny(df_left)/df_len + df_right_len*get_jinny(df_right)/df_len"
   ]
  },
  {
   "cell_type": "code",
   "execution_count": 5,
   "metadata": {
    "collapsed": true
   },
   "outputs": [],
   "source": [
    "#Получаем порог с минимальной функцией потерь (переделать чтобы датафрейм был параметром)\n",
    "\n",
    "def split_dataframe_by_thresholds(df,feature_name,thresholds):\n",
    "    \n",
    "    loss_functions = []          \n",
    "    \n",
    "    for threshold in thresholds:\n",
    "        \n",
    "        y_left = y[df[feature_name] < threshold]\n",
    "        \n",
    "        y_right = y[df[feature_name] > threshold]                \n",
    "        \n",
    "        loss_functions.append(get_loss_function(y_left,y_right))            \n",
    "    \n",
    "    return [feature_name,thresholds[loss_functions==np.min(loss_functions)][0],np.min(loss_functions)]"
   ]
  },
  {
   "cell_type": "code",
   "execution_count": 6,
   "metadata": {
    "collapsed": true
   },
   "outputs": [],
   "source": [
    "#Получаем порог с минимальной функцией потерь для каждой фичи (переделать чтобы датафрейм был параметром)\n",
    "\n",
    "def get_tree_thresholds(df):\n",
    "    \n",
    "    thresholds = []\n",
    "    \n",
    "    for class_name in np.unique(y):\n",
    "        thresholds.append(split_dataframe_by_thresholds(df,class_name,get_thresholds_by_feature(df,class_name)))\n",
    "        \n",
    "    return thresholds"
   ]
  },
  {
   "cell_type": "code",
   "execution_count": 7,
   "metadata": {
    "collapsed": true
   },
   "outputs": [],
   "source": [
    "#строим дерево с глубиной 1\n",
    "\n",
    "def build_tree_depth_1(df):        \n",
    "    \n",
    "    #берем пороги по обучающей выборке\n",
    "    \n",
    "    tree_thresholds = get_tree_thresholds(x_pd)\n",
    "        \n",
    "    tree_thresholds_sorted = np.array(pd.DataFrame(tree_thresholds).sort_values(by=[2]))   \n",
    "    \n",
    "    feature = int(tree_thresholds_sorted[0][0])\n",
    "    threshold = tree_thresholds_sorted[0][1]\n",
    "    \n",
    "    y_pred = list()\n",
    "    \n",
    "    left_values = list()    \n",
    "    right_values = list()\n",
    "    \n",
    "    left_pred = list()    \n",
    "    right_pred = list()\n",
    "    \n",
    "    #обучение\n",
    "    \n",
    "    for item in x_pd.values:\n",
    "        \n",
    "        if item[feature] < threshold:\n",
    "                    \n",
    "            left_pred.append(item[len(item)-1])   \n",
    "                    \n",
    "        else:\n",
    "                    \n",
    "            right_pred.append(item[len(item)-1]) \n",
    "            \n",
    "    #деление по полученным порогам поданного датасета\n",
    "    \n",
    "    df = pd.DataFrame(df.transpose())\n",
    "        \n",
    "    for item in df.values:\n",
    "        \n",
    "        if item[feature] < threshold:\n",
    "                    \n",
    "            left_values.append(item[feature])   \n",
    "                    \n",
    "        else:\n",
    "                    \n",
    "            right_values.append(item[feature])   \n",
    "            \n",
    "    left_pd = pd.DataFrame(left_pred)\n",
    "    right_pd = pd.DataFrame(right_pred)\n",
    "    \n",
    "    #классификация\n",
    "            \n",
    "    for item in df.values:\n",
    "                        \n",
    "        if item[feature] in left_values:\n",
    "            \n",
    "            y_pred.append(left_pd[0].value_counts().idxmax())\n",
    "            \n",
    "        else:\n",
    "            \n",
    "            y_pred.append(right_pd[0].value_counts().idxmax())          \n",
    "    \n",
    "    return  np.array(y_pred)"
   ]
  },
  {
   "cell_type": "markdown",
   "metadata": {},
   "source": [
    "После первого разбиения мы считаем, что в листе дерева будет находиться класс объектов, которых больше всего в этом множестве. Реализуйте классификатор дерева решений в виде функции, которая получает на вход признаки объекта - $x$, на выходе метка класса - $y_{pred}$. Величину порога деления возьмите с точностью до 5 знака после запятой.\n",
    "\n",
    "Визуализируйте получившиеся результаты классификатора на плоскости. Для этого воспользуйтесь кодом ниже, чтобы построить поверхность. $t$ - порог разбиения $i$ - номер признака."
   ]
  },
  {
   "cell_type": "code",
   "execution_count": 9,
   "metadata": {},
   "outputs": [
    {
     "data": {
      "text/plain": [
       "<matplotlib.collections.PathCollection at 0x1ea7a7aca58>"
      ]
     },
     "execution_count": 9,
     "metadata": {},
     "output_type": "execute_result"
    },
    {
     "data": {
      "image/png": "[encoded data removed]",
      "text/plain": [
       "<matplotlib.figure.Figure at 0x1ea7a791128>"
      ]
     },
     "metadata": {},
     "output_type": "display_data"
    }
   ],
   "source": [
    "h = .02\n",
    "x0_min, x0_max = np.min(x[:,0]) - 1, np.max(x[:,0]) + 1\n",
    "x1_min, x1_max = np.min(x[:,1]) - 1, np.max(x[:,1]) + 1\n",
    "xx0, xx1 = np.meshgrid(np.arange(x0_min, x0_max, h),\n",
    "                         np.arange(x1_min, x1_max, h))\n",
    "\n",
    "Z = build_tree_depth_1(np.stack((xx0.ravel(),xx1.ravel())))\n",
    "\n",
    "Z = Z.reshape(xx0.shape)\n",
    "cm = plt.cm.RdBu\n",
    "plt.contourf(xx0, xx1, Z, cmap=cm, alpha=.8)\n",
    "plt.scatter(x[:,0], x[:,1], c = y)\n"
   ]
  },
  {
   "cell_type": "markdown",
   "metadata": {},
   "source": [
    "Проведите процесс разбиение в получившихся листах дерева до глубины 2. Перепишите функцию классификатора. Визуализируйте результаты классификации."
   ]
  },
  {
   "cell_type": "code",
   "execution_count": 61,
   "metadata": {
    "collapsed": true
   },
   "outputs": [],
   "source": [
    "#строим дерево с глубиной 2\n",
    "\n",
    "def build_tree_depth_2(df):\n",
    "    \n",
    "    #берем пороги по обучающей выборке\n",
    "    \n",
    "    tree_thresholds = get_tree_thresholds(x_pd)\n",
    "        \n",
    "    tree_thresholds_sorted = np.array(pd.DataFrame(tree_thresholds).sort_values(by=[2]))   \n",
    "    \n",
    "    feature_1 = int(tree_thresholds_sorted[0][0])\n",
    "    threshold_1 = tree_thresholds_sorted[0][1]\n",
    "    \n",
    "    feature_2 = int(tree_thresholds_sorted[1][0])\n",
    "    threshold_2 = tree_thresholds_sorted[1][1]\n",
    "    \n",
    "    y_pred = list()\n",
    "    \n",
    "    left_left_values = list()    \n",
    "    left_right_values = list()\n",
    "    \n",
    "    right_left_values = list()    \n",
    "    right_right_values = list()\n",
    "    \n",
    "    left_left_pred = list()    \n",
    "    left_right_pred = list()\n",
    "    \n",
    "    right_left_pred = list()\n",
    "    right_right_pred = list()\n",
    "    \n",
    "    #обучение\n",
    "    \n",
    "    for item in x_pd.values:\n",
    "        \n",
    "        if item[feature_1] < threshold_1:\n",
    "            \n",
    "            if item[feature_2] < threshold_2:\n",
    "                    \n",
    "                left_left_pred.append(item[len(item)-1])   \n",
    "                \n",
    "            else :\n",
    "                \n",
    "                left_right_pred.append(item[len(item)-1])   \n",
    "                    \n",
    "        elif item[feature_2] < threshold_2:\n",
    "            \n",
    "            right_left_pred.append(item[len(item)-1]) \n",
    "                \n",
    "        else:\n",
    "                    \n",
    "            right_right_pred.append(item[len(item)-1]) \n",
    "            \n",
    "    #деление по полученным порогам поданного датасета\n",
    "    \n",
    "    df = pd.DataFrame(df.transpose())\n",
    "        \n",
    "    for item in df.values:\n",
    "        \n",
    "        if item[feature_1] < threshold_1:\n",
    "            \n",
    "            if item[feature_2] < threshold_2:\n",
    "                    \n",
    "                left_left_values.append([item[feature_1],item[feature_2]])   \n",
    "                \n",
    "            else :\n",
    "                \n",
    "                left_right_values.append([item[feature_1],item[feature_2]])   \n",
    "                    \n",
    "        elif item[feature_2] < threshold_2:\n",
    "            \n",
    "            right_left_values.append([item[feature_1],item[feature_2]]) \n",
    "                \n",
    "        else:\n",
    "                    \n",
    "            right_right_values.append([item[feature_1],item[feature_2]]) \n",
    "            \n",
    "    left_left_pd = pd.DataFrame(left_left_pred)\n",
    "    left_right_pd = pd.DataFrame(left_right_pred)\n",
    "    right_left_pd = pd.DataFrame(right_left_pred)\n",
    "    right_right_pd = pd.DataFrame(right_right_pred)\n",
    "    \n",
    "    #классификация\n",
    "            \n",
    "    for item in df.values:\n",
    "                        \n",
    "        if [item[feature_1],item[feature_2]] in left_left_values:\n",
    "            \n",
    "            try:\n",
    "                y_pred.append(left_left_pd[0].value_counts().idxmax())\n",
    "            except KeyError:\n",
    "                y_pred.append(left_right_pd[0].value_counts().idxmax())                \n",
    "        \n",
    "        elif [item[feature_1],item[feature_2]] in left_right_values:\n",
    "            \n",
    "            try:\n",
    "                y_pred.append(left_right_pd[0].value_counts().idxmax())                \n",
    "            except KeyError:\n",
    "                y_pred.append(left_left_pd[0].value_counts().idxmax())                        \n",
    "            \n",
    "        elif [item[feature_1],item[feature_2]] in right_left_values:\n",
    "            \n",
    "            try:\n",
    "                y_pred.append(right_left_pd[0].value_counts().idxmax())                \n",
    "            except KeyError:\n",
    "                y_pred.append(right_right_pd[0].value_counts().idxmax())                                       \n",
    "            \n",
    "        else:\n",
    "            \n",
    "            try:\n",
    "                y_pred.append(right_right_pd[0].value_counts().idxmax())                               \n",
    "            except KeyError:\n",
    "                y_pred.append(right_left_pd[0].value_counts().idxmax())                                       \n",
    "    \n",
    "    return  np.array(y_pred)    "
   ]
  },
  {
   "cell_type": "code",
   "execution_count": 62,
   "metadata": {},
   "outputs": [
    {
     "data": {
      "text/plain": [
       "<matplotlib.collections.PathCollection at 0x1ea7c6aad68>"
      ]
     },
     "execution_count": 62,
     "metadata": {},
     "output_type": "execute_result"
    },
    {
     "data": {
      "image/png": "[encoded data removed]",
      "text/plain": [
       "<matplotlib.figure.Figure at 0x1ea7c0b4f28>"
      ]
     },
     "metadata": {},
     "output_type": "display_data"
    }
   ],
   "source": [
    "h = .02\n",
    "x0_min, x0_max = np.min(x[:,0]) - 1, np.max(x[:,0]) + 1\n",
    "x1_min, x1_max = np.min(x[:,1]) - 1, np.max(x[:,1]) + 1\n",
    "xx0, xx1 = np.meshgrid(np.arange(x0_min, x0_max, h),\n",
    "                         np.arange(x1_min, x1_max, h))\n",
    "\n",
    "Z = build_tree_depth_2(np.stack((xx0.ravel(),xx1.ravel())))\n",
    "\n",
    "Z = Z.reshape(xx0.shape)\n",
    "cm = plt.cm.RdBu\n",
    "plt.contourf(xx0, xx1, Z, cmap=cm, alpha=.8)\n",
    "plt.scatter(x[:,0], x[:,1], c = y)"
   ]
  },
  {
   "cell_type": "markdown",
   "metadata": {},
   "source": [
    "## Задание №2. Кросс-проверка и  подбор параметров для дерева решений"
   ]
  },
  {
   "cell_type": "markdown",
   "metadata": {},
   "source": [
    "В задании воспользуемся готовой функцией для построения дерева решений DecisionTreeClassifier. Использовать будем данные с платформы kaggle, где проводится классификация пациентов на здоровых ('Normal') и с заболеванием ('Abnormal'). Подробности о признаках тут: https://www.kaggle.com/uciml/biomechanical-features-of-orthopedic-patients/home\n",
    "Необходимо построить кросс-проверку (cross_val_score в sklearn.cross_validation ) алгоритма \"Дерево решений\" на 5 подвыборках, причем дерево должно не ограничиваться по глубине (max_depth), в листовой вершине дерева должен быть хотя бы один объект (min_samples_leaf), минимальное количество объектов должно быть не менее 2 для разбиения (min_samples_split) и random_state=42.\n",
    "Оцените результаты получившиеся на валидационной выборке с использованием F1-меры, точности и полноты (в параметре scoring к методу cross_val_score необходимо использовать 'f1_weighted', 'precision_weighted', 'recall_weighted'). \n",
    "\n",
    "Точность и полнота позволяют провести оценку классификации.\n",
    "Точность (Precision) - это отношение количества правильно классифицированных объектов класса к количеству объектов, которые классифицированы как данный класс.\n",
    "Полнота (Recall) - это отношение количества правильно классифицированных объектов класса к количеству объектов данного класса в тестовой выборке.\n",
    "Введем следующие понятия:\n",
    "\n",
    "$TP$  — истино-положительное решение;\n",
    "$TN$ — истино-отрицательное решение;\n",
    "$FP$ — ложно-положительное решение;\n",
    "$FN$ — ложно-отрицательное решение.\n",
    "\n",
    "Тогда \n",
    "\n",
    "$Precision = \\frac{TP}{TP+FP}$, \n",
    "\n",
    "$Recall = \\frac{TP}{TP+TN}$.\n",
    "\n",
    "Точность и полнота изменяются в интервале [0, 1]. Чем выше точность и полнота, тем лучше классификатор. Однако, по двум метрикам очень сложно чудить о качестве классификации, поэтому используют F1-меру:\n",
    "\n",
    "$F1 = \\frac{2 \\times Precision \\times Recall}{Precision + Recall}$\n",
    "\n",
    "В нашем задании будем использовать взвешенную сумму F1-меры, точности и полноты для каждого класса."
   ]
  },
  {
   "cell_type": "code",
   "execution_count": 53,
   "metadata": {
    "collapsed": true
   },
   "outputs": [],
   "source": [
    "import pandas as pd\n",
    "from sklearn.tree import DecisionTreeClassifier\n",
    "from sklearn.cross_validation import cross_val_score\n",
    "from sklearn.metrics.classification import f1_score, precision_score, recall_score"
   ]
  },
  {
   "cell_type": "code",
   "execution_count": 58,
   "metadata": {
    "collapsed": true
   },
   "outputs": [],
   "source": [
    "df = pd.read_csv('column_2C_weka.csv')\n",
    "df.columns\n",
    "X = df[['pelvic_incidence', 'pelvic_tilt numeric', 'lumbar_lordosis_angle',\n",
    "       'sacral_slope', 'pelvic_radius', 'degree_spondylolisthesis']]\n",
    "y = df['class']"
   ]
  },
  {
   "cell_type": "code",
   "execution_count": 64,
   "metadata": {
    "collapsed": true
   },
   "outputs": [],
   "source": [
    "clf = DecisionTreeClassifier(max_depth=None, min_samples_split=2, min_samples_leaf=1,random_state = 42)"
   ]
  },
  {
   "cell_type": "code",
   "execution_count": 65,
   "metadata": {
    "collapsed": true
   },
   "outputs": [],
   "source": [
    "cvs_f1_weighted = cross_val_score(clf,X,y,scoring='f1_weighted',cv = 5)\n",
    "cvs_precision_weighted = cross_val_score(clf,X,y,scoring='precision_weighted',cv = 5)\n",
    "cvs_recall_weighted = cross_val_score(clf,X,y,scoring='recall_weighted',cv = 5)"
   ]
  },
  {
   "cell_type": "code",
   "execution_count": 66,
   "metadata": {},
   "outputs": [
    {
     "data": {
      "text/plain": [
       "array([0.42444379, 0.68732315, 0.85145657, 0.91747587, 0.79067321])"
      ]
     },
     "execution_count": 66,
     "metadata": {},
     "output_type": "execute_result"
    }
   ],
   "source": [
    "cvs_f1_weighted"
   ]
  },
  {
   "cell_type": "code",
   "execution_count": 67,
   "metadata": {},
   "outputs": [
    {
     "data": {
      "text/plain": [
       "array([0.58570525, 0.71916509, 0.85275142, 0.92080961, 0.81075269])"
      ]
     },
     "execution_count": 67,
     "metadata": {},
     "output_type": "execute_result"
    }
   ],
   "source": [
    "cvs_precision_weighted"
   ]
  },
  {
   "cell_type": "code",
   "execution_count": 68,
   "metadata": {},
   "outputs": [
    {
     "data": {
      "text/plain": [
       "array([0.43548387, 0.67741935, 0.85483871, 0.91935484, 0.80645161])"
      ]
     },
     "execution_count": 68,
     "metadata": {},
     "output_type": "execute_result"
    }
   ],
   "source": [
    "cvs_recall_weighted"
   ]
  },
  {
   "cell_type": "markdown",
   "metadata": {},
   "source": [
    "#### Выводы\n",
    "\n",
    "На основе результатов кросс-проверки можно сделать выводы о том, что в данных есть выбросы, потому что в одной из подвыборок все метрики оказались плохими\n",
    "\n",
    "На оставшихся подвыборках были получены сравнимые значения по всем метрикам"
   ]
  },
  {
   "cell_type": "markdown",
   "metadata": {},
   "source": [
    "Следует отметить, что по одной метрике не очень удобно проводить оценку. В этой связи, лучшим вариантом кросс-проверки будет использование функции cross_validate из sklearn.model_selection. В нее можно передать несколько метрик и оценивать каждый шаг кросс проверки по нескольким метрикам, причем для тренировочного (return_train_score=True) и валидационного набора данных.\n",
    "Оцените результаты на тренировочном и тестовом наборе. Объясните получившиеся результаты.\n"
   ]
  },
  {
   "cell_type": "code",
   "execution_count": 3,
   "metadata": {
    "collapsed": true
   },
   "outputs": [],
   "source": [
    "from sklearn.model_selection import cross_validate"
   ]
  },
  {
   "cell_type": "code",
   "execution_count": 71,
   "metadata": {
    "collapsed": true
   },
   "outputs": [],
   "source": [
    "cv_results = cross_validate(clf, X, y, return_train_score=True,cv = 5,scoring = ['f1_weighted', 'precision_weighted', 'recall_weighted'])"
   ]
  },
  {
   "cell_type": "code",
   "execution_count": 72,
   "metadata": {},
   "outputs": [
    {
     "data": {
      "text/plain": [
       "{'fit_time': array([0.00199509, 0.00199461, 0.00199461, 0.00099802, 0.00199366]),\n",
       " 'score_time': array([0.00199461, 0.00299335, 0.00199509, 0.00299072, 0.00299239]),\n",
       " 'test_f1_weighted': array([0.42444379, 0.68732315, 0.85145657, 0.91747587, 0.79067321]),\n",
       " 'test_precision_weighted': array([0.58570525, 0.71916509, 0.85275142, 0.92080961, 0.81075269]),\n",
       " 'test_recall_weighted': array([0.43548387, 0.67741935, 0.85483871, 0.91935484, 0.80645161]),\n",
       " 'train_f1_weighted': array([1., 1., 1., 1., 1.]),\n",
       " 'train_precision_weighted': array([1., 1., 1., 1., 1.]),\n",
       " 'train_recall_weighted': array([1., 1., 1., 1., 1.])}"
      ]
     },
     "execution_count": 72,
     "metadata": {},
     "output_type": "execute_result"
    }
   ],
   "source": [
    "cv_results"
   ]
  },
  {
   "cell_type": "markdown",
   "metadata": {},
   "source": [
    "#### Выводы\n",
    "\n",
    "На основе результатов кросс-проверки можно сделать выводы о том, что результаты проверки с помощью метода cross_validate схожи с результатами проверки с помощью метода cross_val_score на тестовой выборке\n",
    "\n",
    "cross_validate также позволяет оценить результаты проверки на обучающей выборке\n",
    "все метрики на обучающей выборке в каждой подвыборке достигли максимальных показателей, что указывает на переобучение дерева решений\n",
    "\n",
    "Дерево было переобучено поскольку оно не было ограничено по глубине (max_depth) и строилось до тех пор, пока в листах дерева не остались объекты одного класса"
   ]
  },
  {
   "cell_type": "markdown",
   "metadata": {},
   "source": [
    "Подбор параметров для модели можно проводить с помощью GridSearchCV из sklearn.model_selection. Возьмите параметр максимальной глубины дерева от 1 до 20. Относительно этого параметра вычислите средевзвешенную F1-меру для 5 разбиений. Постройте график зависимости F1-меры от максимальной глубины дерева. Получить результаты построения можно методом cv_results_.\n",
    "\n",
    "Проведите оценку результатов. Почему на тестовой выборке F1-мера не увеличивается. "
   ]
  },
  {
   "cell_type": "code",
   "execution_count": 91,
   "metadata": {
    "collapsed": true
   },
   "outputs": [],
   "source": [
    "from sklearn.model_selection import GridSearchCV"
   ]
  },
  {
   "cell_type": "code",
   "execution_count": 92,
   "metadata": {},
   "outputs": [
    {
     "data": {
      "text/plain": [
       "GridSearchCV(cv=5, error_score='raise',\n",
       "       estimator=DecisionTreeClassifier(class_weight=None, criterion='gini', max_depth=None,\n",
       "            max_features=None, max_leaf_nodes=None,\n",
       "            min_impurity_decrease=0.0, min_impurity_split=None,\n",
       "            min_samples_leaf=1, min_samples_split=2,\n",
       "            min_weight_fraction_leaf=0.0, presort=False, random_state=42,\n",
       "            splitter='best'),\n",
       "       fit_params=None, iid=True, n_jobs=1,\n",
       "       param_grid={'max_depth': range(1, 20)}, pre_dispatch='2*n_jobs',\n",
       "       refit=True, return_train_score='warn', scoring='f1_weighted',\n",
       "       verbose=0)"
      ]
     },
     "execution_count": 92,
     "metadata": {},
     "output_type": "execute_result"
    }
   ],
   "source": [
    "param_grid = {'max_depth':range(1,20)}\n",
    "gs = GridSearchCV(clf,param_grid,scoring = 'f1_weighted',cv = 5)\n",
    "gs.fit(X,y)"
   ]
  },
  {
   "cell_type": "code",
   "execution_count": 93,
   "metadata": {},
   "outputs": [
    {
     "data": {
      "text/plain": [
       "{'mean_fit_time': array([0.00159631, 0.00139632, 0.00159545, 0.00179515, 0.00159469,\n",
       "        0.00239344, 0.00179529, 0.0017951 , 0.00179515, 0.00159612,\n",
       "        0.00159502, 0.00179348, 0.00159583, 0.00139008, 0.00159326,\n",
       "        0.00199318, 0.0017921 , 0.00139246, 0.00179205]),\n",
       " 'mean_score_time': array([0.00079789, 0.00079799, 0.00079799, 0.00062299, 0.00079765,\n",
       "        0.0009973 , 0.00119672, 0.00079827, 0.00079756, 0.00059829,\n",
       "        0.00059848, 0.00039821, 0.00079784, 0.00080171, 0.00119686,\n",
       "        0.00080042, 0.00059838, 0.00080662, 0.00099158]),\n",
       " 'mean_test_score': array([0.74505202, 0.69757125, 0.75010411, 0.73110393, 0.7433104 ,\n",
       "        0.73300684, 0.73923702, 0.73599022, 0.72696151, 0.7339513 ,\n",
       "        0.73427452, 0.73427452, 0.73427452, 0.73427452, 0.73427452,\n",
       "        0.73427452, 0.73427452, 0.73427452, 0.73427452]),\n",
       " 'mean_train_score': array([0.7954419 , 0.84136792, 0.88596518, 0.91304717, 0.94571082,\n",
       "        0.96566922, 0.98069733, 0.98872984, 0.99596897, 0.99838166,\n",
       "        1.        , 1.        , 1.        , 1.        , 1.        ,\n",
       "        1.        , 1.        , 1.        , 1.        ]),\n",
       " 'param_max_depth': masked_array(data=[1, 2, 3, 4, 5, 6, 7, 8, 9, 10, 11, 12, 13, 14, 15, 16,\n",
       "                    17, 18, 19],\n",
       "              mask=[False, False, False, False, False, False, False, False,\n",
       "                    False, False, False, False, False, False, False, False,\n",
       "                    False, False, False],\n",
       "        fill_value='?',\n",
       "             dtype=object),\n",
       " 'params': [{'max_depth': 1},\n",
       "  {'max_depth': 2},\n",
       "  {'max_depth': 3},\n",
       "  {'max_depth': 4},\n",
       "  {'max_depth': 5},\n",
       "  {'max_depth': 6},\n",
       "  {'max_depth': 7},\n",
       "  {'max_depth': 8},\n",
       "  {'max_depth': 9},\n",
       "  {'max_depth': 10},\n",
       "  {'max_depth': 11},\n",
       "  {'max_depth': 12},\n",
       "  {'max_depth': 13},\n",
       "  {'max_depth': 14},\n",
       "  {'max_depth': 15},\n",
       "  {'max_depth': 16},\n",
       "  {'max_depth': 17},\n",
       "  {'max_depth': 18},\n",
       "  {'max_depth': 19}],\n",
       " 'rank_test_score': array([ 2, 19,  1, 17,  3, 16,  4,  5, 18, 15,  6,  6,  6,  6,  6,  6,  6,\n",
       "         6,  6]),\n",
       " 'split0_test_score': array([0.1840176 , 0.1840176 , 0.47741935, 0.2836966 , 0.39373814,\n",
       "        0.44475806, 0.40357974, 0.40357974, 0.42444379, 0.42444379,\n",
       "        0.42444379, 0.42444379, 0.42444379, 0.42444379, 0.42444379,\n",
       "        0.42444379, 0.42444379, 0.42444379, 0.42444379]),\n",
       " 'split0_train_score': array([0.90168122, 0.90168122, 0.93133776, 0.94849528, 0.96811659,\n",
       "        0.97588336, 0.9839705 , 0.98796006, 0.99596104, 1.        ,\n",
       "        1.        , 1.        , 1.        , 1.        , 1.        ,\n",
       "        1.        , 1.        , 1.        , 1.        ]),\n",
       " 'split1_test_score': array([0.6541068 , 0.74884022, 0.76592758, 0.79161651, 0.73453588,\n",
       "        0.70087564, 0.70087564, 0.70087564, 0.68732315, 0.68732315,\n",
       "        0.68732315, 0.68732315, 0.68732315, 0.68732315, 0.68732315,\n",
       "        0.68732315, 0.68732315, 0.68732315, 0.68732315]),\n",
       " 'split1_train_score': array([0.83209264, 0.86756061, 0.87788802, 0.91783206, 0.96003957,\n",
       "        0.98375906, 0.9919083 , 0.9919083 , 1.        , 1.        ,\n",
       "        1.        , 1.        , 1.        , 1.        , 1.        ,\n",
       "        1.        , 1.        , 1.        , 1.        ]),\n",
       " 'split2_test_score': array([0.95127719, 0.91747587, 0.81058726, 0.84854761, 0.88631343,\n",
       "        0.85145657, 0.81489152, 0.85145657, 0.81489152, 0.85145657,\n",
       "        0.85145657, 0.85145657, 0.85145657, 0.85145657, 0.85145657,\n",
       "        0.85145657, 0.85145657, 0.85145657, 0.85145657]),\n",
       " 'split2_train_score': array([0.76160156, 0.83031937, 0.8628961 , 0.90052143, 0.93156219,\n",
       "        0.96763321, 0.9797353 , 0.99196112, 0.99596104, 1.        ,\n",
       "        1.        , 1.        , 1.        , 1.        , 1.        ,\n",
       "        1.        , 1.        , 1.        , 1.        ]),\n",
       " 'split3_test_score': array([0.96811659, 0.77707373, 0.86673183, 0.9018044 , 0.91747587,\n",
       "        0.89791271, 0.95127719, 0.93336592, 0.91747587, 0.91585978,\n",
       "        0.91747587, 0.91747587, 0.91747587, 0.91747587, 0.91747587,\n",
       "        0.91747587, 0.91747587, 0.91747587, 0.91747587]),\n",
       " 'split3_train_score': array([0.73682805, 0.77887617, 0.8628961 , 0.88709677, 0.9263533 ,\n",
       "        0.93768004, 0.9519115 , 0.97181972, 0.98792274, 0.9919083 ,\n",
       "        1.        , 1.        , 1.        , 1.        , 1.        ,\n",
       "        1.        , 1.        , 1.        , 1.        ]),\n",
       " 'split4_test_score': array([0.96774194, 0.86044881, 0.82985452, 0.82985452, 0.78448868,\n",
       "        0.77003122, 0.82556101, 0.79067321, 0.79067321, 0.79067321,\n",
       "        0.79067321, 0.79067321, 0.79067321, 0.79067321, 0.79067321,\n",
       "        0.79067321, 0.79067321, 0.79067321, 0.79067321]),\n",
       " 'split4_train_score': array([0.74500604, 0.82840222, 0.89480793, 0.91129032, 0.94248244,\n",
       "        0.96339041, 0.99596104, 1.        , 1.        , 1.        ,\n",
       "        1.        , 1.        , 1.        , 1.        , 1.        ,\n",
       "        1.        , 1.        , 1.        , 1.        ]),\n",
       " 'std_fit_time': array([0.0004886 , 0.00048889, 0.00048984, 0.00039857, 0.00049039,\n",
       "        0.00048836, 0.00039923, 0.00039938, 0.00116342, 0.00048873,\n",
       "        0.00048852, 0.00039465, 0.00079815, 0.00049382, 0.00049177,\n",
       "        0.00062842, 0.00074138, 0.00048136, 0.00039878]),\n",
       " 'std_score_time': array([3.98945905e-04, 3.98993560e-04, 7.46863056e-04, 5.10658758e-04,\n",
       "        3.98826856e-04, 2.61174468e-07, 3.99780472e-04, 3.99137095e-04,\n",
       "        3.98779044e-04, 4.88499773e-04, 4.88655554e-04, 4.87704197e-04,\n",
       "        3.98921967e-04, 4.00923044e-04, 3.99112901e-04, 4.00256366e-04,\n",
       "        4.88577702e-04, 4.03622935e-04, 1.82529627e-05]),\n",
       " 'std_test_score': array([0.30492887, 0.26365646, 0.14016257, 0.22650317, 0.18695287,\n",
       "        0.15919476, 0.18561997, 0.18276194, 0.16803259, 0.1720957 ,\n",
       "        0.17243822, 0.17243822, 0.17243822, 0.17243822, 0.17243822,\n",
       "        0.17243822, 0.17243822, 0.17243822, 0.17243822]),\n",
       " 'std_train_score': array([0.06285634, 0.04127748, 0.02555962, 0.02055659, 0.01607888,\n",
       "        0.01564618, 0.01548502, 0.00931778, 0.00441   , 0.00323668,\n",
       "        0.        , 0.        , 0.        , 0.        , 0.        ,\n",
       "        0.        , 0.        , 0.        , 0.        ])}"
      ]
     },
     "execution_count": 93,
     "metadata": {},
     "output_type": "execute_result"
    }
   ],
   "source": [
    "gs.cv_results_"
   ]
  },
  {
   "cell_type": "code",
   "execution_count": 94,
   "metadata": {
    "scrolled": true
   },
   "outputs": [
    {
     "data": {
      "text/plain": [
       "{'max_depth': 3}"
      ]
     },
     "execution_count": 94,
     "metadata": {},
     "output_type": "execute_result"
    }
   ],
   "source": [
    "gs.best_params_"
   ]
  },
  {
   "cell_type": "code",
   "execution_count": 95,
   "metadata": {},
   "outputs": [
    {
     "data": {
      "text/plain": [
       "DecisionTreeClassifier(class_weight=None, criterion='gini', max_depth=3,\n",
       "            max_features=None, max_leaf_nodes=None,\n",
       "            min_impurity_decrease=0.0, min_impurity_split=None,\n",
       "            min_samples_leaf=1, min_samples_split=2,\n",
       "            min_weight_fraction_leaf=0.0, presort=False, random_state=42,\n",
       "            splitter='best')"
      ]
     },
     "execution_count": 95,
     "metadata": {},
     "output_type": "execute_result"
    }
   ],
   "source": [
    "gs.best_estimator_"
   ]
  },
  {
   "cell_type": "code",
   "execution_count": 96,
   "metadata": {
    "collapsed": true
   },
   "outputs": [],
   "source": [
    "keys_test = ['split0_test_score',\n",
    "            'split0_train_score',\n",
    "            'split1_test_score',\n",
    "            'split1_train_score',\n",
    "            'split2_test_score',\n",
    "            'split2_train_score',\n",
    "            'split3_test_score',\n",
    "            'split3_train_score',\n",
    "            'split4_test_score',\n",
    "            'split4_train_score']"
   ]
  },
  {
   "cell_type": "code",
   "execution_count": 97,
   "metadata": {
    "collapsed": true
   },
   "outputs": [],
   "source": [
    "import matplotlib.pyplot as plt\n",
    "%matplotlib inline"
   ]
  },
  {
   "cell_type": "code",
   "execution_count": 98,
   "metadata": {},
   "outputs": [
    {
     "data": {
      "text/plain": [
       "<matplotlib.legend.Legend at 0x19f1daee8d0>"
      ]
     },
     "execution_count": 98,
     "metadata": {},
     "output_type": "execute_result"
    },
    {
     "data": {
      "image/png": "[encoded data removed]",
      "text/plain": [
       "<matplotlib.figure.Figure at 0x19f1daa8390>"
      ]
     },
     "metadata": {},
     "output_type": "display_data"
    }
   ],
   "source": [
    "for key in keys:\n",
    "    plt.plot(range(1,20),gs.cv_results_[key], label=key)\n",
    "plt.legend()"
   ]
  },
  {
   "cell_type": "markdown",
   "metadata": {},
   "source": [
    "### Выводы\n",
    "\n",
    "В большинстве обучающих подвыборок при увеличении max_depth F1-мера увеличивается до значения max_depth = 7 и затем остается почти постоянным\n",
    "\n",
    "Далее F1-мера перестает увеличиваться потому что данные уже были окончательно разделены деревом до такой степени, что в каждом листе содержатся только представители одного класс\n",
    "\n",
    "В тестовых подвыборках F1-мера  также достигает набольшего значение при max_depth от 2 до 7 и затем уменьшается и остается постоянной, поскольку далее данные не делятся"
   ]
  },
  {
   "cell_type": "markdown",
   "metadata": {},
   "source": [
    "То же самое проведите для параметра min_samples_split от 2 до 20.\n",
    "\n",
    "Проведите оценку результатов. "
   ]
  },
  {
   "cell_type": "code",
   "execution_count": 99,
   "metadata": {},
   "outputs": [
    {
     "data": {
      "text/plain": [
       "GridSearchCV(cv=5, error_score='raise',\n",
       "       estimator=DecisionTreeClassifier(class_weight=None, criterion='gini', max_depth=None,\n",
       "            max_features=None, max_leaf_nodes=None,\n",
       "            min_impurity_decrease=0.0, min_impurity_split=None,\n",
       "            min_samples_leaf=1, min_samples_split=2,\n",
       "            min_weight_fraction_leaf=0.0, presort=False, random_state=42,\n",
       "            splitter='best'),\n",
       "       fit_params=None, iid=True, n_jobs=1,\n",
       "       param_grid={'min_samples_split': range(2, 20)},\n",
       "       pre_dispatch='2*n_jobs', refit=True, return_train_score='warn',\n",
       "       scoring='f1_weighted', verbose=0)"
      ]
     },
     "execution_count": 99,
     "metadata": {},
     "output_type": "execute_result"
    }
   ],
   "source": [
    "param_grid = {'min_samples_split':range(2,20)}\n",
    "gs = GridSearchCV(clf,param_grid,scoring = 'f1_weighted',cv = 5)\n",
    "gs.fit(X,y)"
   ]
  },
  {
   "cell_type": "code",
   "execution_count": 100,
   "metadata": {},
   "outputs": [
    {
     "data": {
      "text/plain": [
       "{'mean_fit_time': array([0.00199676, 0.00159321, 0.00159607, 0.00189633, 0.00140257,\n",
       "        0.00189929, 0.00179558, 0.0015955 , 0.00200243, 0.00159607,\n",
       "        0.00159521, 0.00119638, 0.00179534, 0.00159516, 0.00159636,\n",
       "        0.00119677, 0.00139618, 0.00119677]),\n",
       " 'mean_score_time': array([0.00079527, 0.00039883, 0.00099673, 0.00039892, 0.00078959,\n",
       "        0.00079765, 0.00059857, 0.00059848, 0.00079732, 0.00039878,\n",
       "        0.00059814, 0.0007977 , 0.00059853, 0.00059862, 0.00079813,\n",
       "        0.00059838, 0.00059824, 0.00079637]),\n",
       " 'mean_test_score': array([0.73427452, 0.7369746 , 0.74259632, 0.737862  , 0.75611506,\n",
       "        0.7582932 , 0.76847343, 0.77103437, 0.75943954, 0.76564453,\n",
       "        0.76364135, 0.75970334, 0.75699958, 0.75938933, 0.75303247,\n",
       "        0.75303247, 0.76541065, 0.76541065]),\n",
       " 'mean_train_score': array([1.        , 0.99676608, 0.98950916, 0.97817122, 0.97575794,\n",
       "        0.96516675, 0.95882571, 0.94983537, 0.94645253, 0.94004645,\n",
       "        0.93425833, 0.92329872, 0.9219503 , 0.91939429, 0.91175383,\n",
       "        0.91004751, 0.90660282, 0.90660282]),\n",
       " 'param_min_samples_split': masked_array(data=[2, 3, 4, 5, 6, 7, 8, 9, 10, 11, 12, 13, 14, 15, 16, 17,\n",
       "                    18, 19],\n",
       "              mask=[False, False, False, False, False, False, False, False,\n",
       "                    False, False, False, False, False, False, False, False,\n",
       "                    False, False],\n",
       "        fill_value='?',\n",
       "             dtype=object),\n",
       " 'params': [{'min_samples_split': 2},\n",
       "  {'min_samples_split': 3},\n",
       "  {'min_samples_split': 4},\n",
       "  {'min_samples_split': 5},\n",
       "  {'min_samples_split': 6},\n",
       "  {'min_samples_split': 7},\n",
       "  {'min_samples_split': 8},\n",
       "  {'min_samples_split': 9},\n",
       "  {'min_samples_split': 10},\n",
       "  {'min_samples_split': 11},\n",
       "  {'min_samples_split': 12},\n",
       "  {'min_samples_split': 13},\n",
       "  {'min_samples_split': 14},\n",
       "  {'min_samples_split': 15},\n",
       "  {'min_samples_split': 16},\n",
       "  {'min_samples_split': 17},\n",
       "  {'min_samples_split': 18},\n",
       "  {'min_samples_split': 19}],\n",
       " 'rank_test_score': array([18, 17, 15, 16, 12, 10,  2,  1,  8,  3,  6,  7, 11,  9, 13, 13,  4,\n",
       "         4]),\n",
       " 'split0_test_score': array([0.42444379, 0.42444379, 0.43856866, 0.43856866, 0.47565294,\n",
       "        0.52116935, 0.52116935, 0.50273224, 0.44475806, 0.44475806,\n",
       "        0.40357974, 0.40357974, 0.40357974, 0.41552847, 0.41552847,\n",
       "        0.41552847, 0.47741935, 0.47741935]),\n",
       " 'split0_train_score': array([1.        , 1.        , 0.99193548, 0.98788313, 0.98375906,\n",
       "        0.97554737, 0.97554737, 0.96763321, 0.95992625, 0.95992625,\n",
       "        0.95204749, 0.95204749, 0.95204749, 0.9481216 , 0.94420404,\n",
       "        0.94014031, 0.92717472, 0.92717472]),\n",
       " 'split1_test_score': array([0.68732315, 0.70243963, 0.70243963, 0.70087564, 0.70087564,\n",
       "        0.70087564, 0.73453588, 0.78023519, 0.78023519, 0.79375399,\n",
       "        0.79375399, 0.79375399, 0.78023519, 0.78023519, 0.78023519,\n",
       "        0.78023519, 0.78023519, 0.78023519]),\n",
       " 'split1_train_score': array([1.        , 0.99596104, 0.99193548, 0.9797353 , 0.9797353 ,\n",
       "        0.9797353 , 0.95571671, 0.93941567, 0.93941567, 0.9263533 ,\n",
       "        0.9263533 , 0.9263533 , 0.9196112 , 0.9196112 , 0.90845126,\n",
       "        0.90845126, 0.90845126, 0.90845126]),\n",
       " 'split2_test_score': array([0.85145657, 0.85145657, 0.85145657, 0.81489152, 0.86907253,\n",
       "        0.86907253, 0.88631343, 0.88631343, 0.88631343, 0.88631343,\n",
       "        0.91747587, 0.86388362, 0.86388362, 0.86388362, 0.86388362,\n",
       "        0.86388362, 0.86388362, 0.86388362]),\n",
       " 'split2_train_score': array([1.        , 1.        , 0.98792274, 0.97588336, 0.967941  ,\n",
       "        0.94782691, 0.94014031, 0.93156219, 0.93156219, 0.93156219,\n",
       "        0.91908302, 0.89613341, 0.89613341, 0.88727922, 0.88727922,\n",
       "        0.88281136, 0.88281136, 0.88281136]),\n",
       " 'split3_test_score': array([0.91747587, 0.91585978, 0.95048552, 0.95048552, 0.95048552,\n",
       "        0.91585978, 0.91585978, 0.91585978, 0.91585978, 0.93336592,\n",
       "        0.93336592, 0.96726813, 0.96726813, 0.96726813, 0.93548387,\n",
       "        0.93548387, 0.93548387, 0.93548387]),\n",
       " 'split3_train_score': array([1.        , 0.99596104, 0.99193548, 0.97162941, 0.97162941,\n",
       "        0.95109475, 0.95109475, 0.9469164 , 0.93796816, 0.92271308,\n",
       "        0.92271308, 0.90769376, 0.90769376, 0.90769376, 0.88456898,\n",
       "        0.88456898, 0.88456898, 0.88456898]),\n",
       " 'split4_test_score': array([0.79067321, 0.79067321, 0.77003122, 0.78448868, 0.78448868,\n",
       "        0.78448868, 0.78448868, 0.77003122, 0.77003122, 0.77003122,\n",
       "        0.77003122, 0.77003122, 0.77003122, 0.77003122, 0.77003122,\n",
       "        0.77003122, 0.77003122, 0.77003122]),\n",
       " 'split4_train_score': array([1.        , 0.9919083 , 0.9838166 , 0.97572491, 0.97572491,\n",
       "        0.97162941, 0.97162941, 0.9636494 , 0.96339041, 0.95967742,\n",
       "        0.95109475, 0.93426565, 0.93426565, 0.93426565, 0.93426565,\n",
       "        0.93426565, 0.93000781, 0.93000781]),\n",
       " 'std_fit_time': array([4.48581880e-06, 4.86669652e-04, 4.88792409e-04, 6.60453709e-04,\n",
       "        4.97811950e-04, 1.10948477e-03, 7.46811823e-04, 4.88519308e-04,\n",
       "        1.09271446e-03, 4.88791804e-04, 4.87993862e-04, 3.98516865e-04,\n",
       "        7.46748006e-04, 4.88539475e-04, 4.88928151e-04, 3.99041187e-04,\n",
       "        4.88714239e-04, 3.99692648e-04]),\n",
       " 'std_score_time': array([3.97657164e-04, 4.88460832e-04, 6.50319180e-07, 4.88577726e-04,\n",
       "        3.95078633e-04, 3.98826884e-04, 4.88733421e-04, 4.88655694e-04,\n",
       "        3.98660430e-04, 4.88402484e-04, 4.88383066e-04, 3.98850566e-04,\n",
       "        4.88694806e-04, 4.88772634e-04, 3.99065374e-04, 4.88577726e-04,\n",
       "        4.88460902e-04, 3.98205063e-04]),\n",
       " 'std_test_score': array([0.17243822, 0.1713813 , 0.173128  , 0.16985927, 0.16312861,\n",
       "        0.13950626, 0.14012605, 0.14583234, 0.16741168, 0.17115429,\n",
       "        0.19134443, 0.19080189, 0.19039557, 0.18596814, 0.17917276,\n",
       "        0.17917276, 0.15607814, 0.15607814]),\n",
       " 'std_train_score': array([0.        , 0.0030269 , 0.00324293, 0.00549148, 0.00562117,\n",
       "        0.01311836, 0.01313108, 0.01384623, 0.01274094, 0.01637383,\n",
       "        0.01432474, 0.01968535, 0.01966083, 0.02104634, 0.0241194 ,\n",
       "        0.02402335, 0.02012927, 0.02012927])}"
      ]
     },
     "execution_count": 100,
     "metadata": {},
     "output_type": "execute_result"
    }
   ],
   "source": [
    "gs.cv_results_"
   ]
  },
  {
   "cell_type": "code",
   "execution_count": 101,
   "metadata": {},
   "outputs": [
    {
     "data": {
      "text/plain": [
       "{'min_samples_split': 9}"
      ]
     },
     "execution_count": 101,
     "metadata": {},
     "output_type": "execute_result"
    }
   ],
   "source": [
    "gs.best_params_"
   ]
  },
  {
   "cell_type": "code",
   "execution_count": 102,
   "metadata": {},
   "outputs": [
    {
     "data": {
      "text/plain": [
       "DecisionTreeClassifier(class_weight=None, criterion='gini', max_depth=None,\n",
       "            max_features=None, max_leaf_nodes=None,\n",
       "            min_impurity_decrease=0.0, min_impurity_split=None,\n",
       "            min_samples_leaf=1, min_samples_split=9,\n",
       "            min_weight_fraction_leaf=0.0, presort=False, random_state=42,\n",
       "            splitter='best')"
      ]
     },
     "execution_count": 102,
     "metadata": {},
     "output_type": "execute_result"
    }
   ],
   "source": [
    "gs.best_estimator_"
   ]
  },
  {
   "cell_type": "code",
   "execution_count": 103,
   "metadata": {},
   "outputs": [
    {
     "data": {
      "text/plain": [
       "<matplotlib.legend.Legend at 0x19f1db7ca20>"
      ]
     },
     "execution_count": 103,
     "metadata": {},
     "output_type": "execute_result"
    },
    {
     "data": {
      "image/png": "[encoded data removed]",
      "text/plain": [
       "<matplotlib.figure.Figure at 0x19f1db864e0>"
      ]
     },
     "metadata": {},
     "output_type": "display_data"
    }
   ],
   "source": [
    "for key in keys:\n",
    "    plt.plot(range(2,20),gs.cv_results_[key], label=key)\n",
    "plt.legend()"
   ]
  },
  {
   "cell_type": "markdown",
   "metadata": {},
   "source": [
    "### Выводы\n",
    "\n",
    "Наилучшее значение F1-меры было достигнуто при значении min_samples_split = 9, то есть при минимальном необходимом количестве объектов для дальнейшего разделения равном 9. Такое значение было получено поскольку при слишком малом значении этого параметра на сложных данных дерево получится слишком большим и будет чрезмерно разделено, в то врема как при слишком большом значении дерево поделится недостаточно, что приведет сооответственно к переобученности или недообученности"
   ]
  },
  {
   "cell_type": "markdown",
   "metadata": {},
   "source": [
    "То же самое проведите для параметра min_samples_leaf от 1 до 10.\n",
    "\n",
    "Проведите оценку результатов. "
   ]
  },
  {
   "cell_type": "code",
   "execution_count": 104,
   "metadata": {},
   "outputs": [
    {
     "data": {
      "text/plain": [
       "GridSearchCV(cv=5, error_score='raise',\n",
       "       estimator=DecisionTreeClassifier(class_weight=None, criterion='gini', max_depth=None,\n",
       "            max_features=None, max_leaf_nodes=None,\n",
       "            min_impurity_decrease=0.0, min_impurity_split=None,\n",
       "            min_samples_leaf=1, min_samples_split=2,\n",
       "            min_weight_fraction_leaf=0.0, presort=False, random_state=42,\n",
       "            splitter='best'),\n",
       "       fit_params=None, iid=True, n_jobs=1,\n",
       "       param_grid={'min_samples_leaf': range(1, 10)},\n",
       "       pre_dispatch='2*n_jobs', refit=True, return_train_score='warn',\n",
       "       scoring='f1_weighted', verbose=0)"
      ]
     },
     "execution_count": 104,
     "metadata": {},
     "output_type": "execute_result"
    }
   ],
   "source": [
    "param_grid = {'min_samples_leaf':range(1,10)}\n",
    "gs = GridSearchCV(clf,param_grid,scoring = 'f1_weighted',cv = 5)\n",
    "gs.fit(X,y)"
   ]
  },
  {
   "cell_type": "code",
   "execution_count": 105,
   "metadata": {},
   "outputs": [
    {
     "data": {
      "text/plain": [
       "{'mean_fit_time': array([0.00179496, 0.00139837, 0.00159607, 0.00159631, 0.00139599,\n",
       "        0.00119681, 0.00159621, 0.00159702, 0.00119667]),\n",
       " 'mean_score_time': array([0.00060225, 0.00079641, 0.00059814, 0.0005981 , 0.00059862,\n",
       "        0.00079865, 0.00039897, 0.00079641, 0.00099754]),\n",
       " 'mean_test_score': array([0.73427452, 0.74455593, 0.75950892, 0.75380196, 0.78838918,\n",
       "        0.77359836, 0.76944619, 0.78589139, 0.75896491]),\n",
       " 'mean_train_score': array([1.        , 0.97480569, 0.95466542, 0.93304517, 0.92768477,\n",
       "        0.91727199, 0.9059251 , 0.89643698, 0.8950506 ]),\n",
       " 'param_min_samples_leaf': masked_array(data=[1, 2, 3, 4, 5, 6, 7, 8, 9],\n",
       "              mask=[False, False, False, False, False, False, False, False,\n",
       "                    False],\n",
       "        fill_value='?',\n",
       "             dtype=object),\n",
       " 'params': [{'min_samples_leaf': 1},\n",
       "  {'min_samples_leaf': 2},\n",
       "  {'min_samples_leaf': 3},\n",
       "  {'min_samples_leaf': 4},\n",
       "  {'min_samples_leaf': 5},\n",
       "  {'min_samples_leaf': 6},\n",
       "  {'min_samples_leaf': 7},\n",
       "  {'min_samples_leaf': 8},\n",
       "  {'min_samples_leaf': 9}],\n",
       " 'rank_test_score': array([9, 8, 5, 7, 1, 3, 4, 2, 6]),\n",
       " 'split0_test_score': array([0.42444379, 0.42540323, 0.45733272, 0.46192739, 0.46192739,\n",
       "        0.39155486, 0.45732527, 0.48924731, 0.3713035 ]),\n",
       " 'split0_train_score': array([1.        , 0.97563859, 0.9719068 , 0.94670221, 0.94670221,\n",
       "        0.93980028, 0.93526642, 0.92691578, 0.9198525 ]),\n",
       " 'split1_test_score': array([0.68732315, 0.74985852, 0.73236242, 0.71744525, 0.77881232,\n",
       "        0.79533596, 0.78023519, 0.78023519, 0.78023519]),\n",
       " 'split1_train_score': array([1.        , 0.9838166 , 0.95924562, 0.93058299, 0.92241628,\n",
       "        0.92271308, 0.91545917, 0.90434978, 0.90434978]),\n",
       " 'split2_test_score': array([0.85145657, 0.85145657, 0.86907253, 0.88631343, 0.93453627,\n",
       "        0.95048552, 0.89791271, 0.87946462, 0.87946462]),\n",
       " 'split2_train_score': array([1.        , 0.96751812, 0.93980028, 0.92741935, 0.91596601,\n",
       "        0.91129032, 0.88007178, 0.87378968, 0.87378968]),\n",
       " 'split3_test_score': array([0.91747587, 0.93336592, 0.93336592, 0.89791271, 0.88446622,\n",
       "        0.86673183, 0.86673183, 0.93548387, 0.91879531]),\n",
       " 'split3_train_score': array([1.        , 0.97563859, 0.95525494, 0.92572829, 0.91353905,\n",
       "        0.89830669, 0.89830669, 0.87660822, 0.87628997]),\n",
       " 'split4_test_score': array([0.79067321, 0.76269539, 0.80541103, 0.80541103, 0.8822037 ,\n",
       "        0.86388362, 0.84502594, 0.84502594, 0.84502594]),\n",
       " 'split4_train_score': array([1.        , 0.97141652, 0.94711948, 0.93479299, 0.93980028,\n",
       "        0.91424957, 0.90052143, 0.90052143, 0.90097105]),\n",
       " 'std_fit_time': array([0.0003993 , 0.00049063, 0.00048879, 0.0004886 , 0.00048867,\n",
       "        0.00039902, 0.00048911, 0.00048967, 0.00039873]),\n",
       " 'std_score_time': array([0.00049179, 0.00039822, 0.00048838, 0.00048834, 0.00048877,\n",
       "        0.00039933, 0.00048864, 0.00039821, 0.0006312 ]),\n",
       " 'std_test_score': array([0.17243822, 0.17279616, 0.1651574 , 0.15968924, 0.17091515,\n",
       "        0.19725319, 0.1607584 , 0.15662724, 0.1991011 ]),\n",
       " 'std_train_score': array([0.        , 0.00542548, 0.0109225 , 0.00749425, 0.01321844,\n",
       "        0.0137239 , 0.01847942, 0.01956697, 0.01755363])}"
      ]
     },
     "execution_count": 105,
     "metadata": {},
     "output_type": "execute_result"
    }
   ],
   "source": [
    "gs.cv_results_"
   ]
  },
  {
   "cell_type": "code",
   "execution_count": 106,
   "metadata": {},
   "outputs": [
    {
     "data": {
      "text/plain": [
       "{'min_samples_leaf': 5}"
      ]
     },
     "execution_count": 106,
     "metadata": {},
     "output_type": "execute_result"
    }
   ],
   "source": [
    "gs.best_params_"
   ]
  },
  {
   "cell_type": "code",
   "execution_count": 107,
   "metadata": {},
   "outputs": [
    {
     "data": {
      "text/plain": [
       "DecisionTreeClassifier(class_weight=None, criterion='gini', max_depth=None,\n",
       "            max_features=None, max_leaf_nodes=None,\n",
       "            min_impurity_decrease=0.0, min_impurity_split=None,\n",
       "            min_samples_leaf=5, min_samples_split=2,\n",
       "            min_weight_fraction_leaf=0.0, presort=False, random_state=42,\n",
       "            splitter='best')"
      ]
     },
     "execution_count": 107,
     "metadata": {},
     "output_type": "execute_result"
    }
   ],
   "source": [
    "gs.best_estimator_"
   ]
  },
  {
   "cell_type": "code",
   "execution_count": 108,
   "metadata": {},
   "outputs": [
    {
     "data": {
      "text/plain": [
       "<matplotlib.legend.Legend at 0x19f1dbde898>"
      ]
     },
     "execution_count": 108,
     "metadata": {},
     "output_type": "execute_result"
    },
    {
     "data": {
      "image/png": "[encoded data removed]",
      "text/plain": [
       "<matplotlib.figure.Figure at 0x19f1dbd6a20>"
      ]
     },
     "metadata": {},
     "output_type": "display_data"
    }
   ],
   "source": [
    "for key in keys:\n",
    "    plt.plot(range(1,10),gs.cv_results_[key], label=key)\n",
    "plt.legend()"
   ]
  },
  {
   "cell_type": "markdown",
   "metadata": {},
   "source": [
    "### Выводы\n",
    "\n",
    "Наилучшее значение F1-меры было достигнуто при значении min_samples_leaf = 5, то есть при минимальном необходимом количестве объектов для листа дерева равном 5. Такое значение было получено поскольку при слишком малом значении этого параметра на сложных данных дерево получится слишком большим и будет чрезмерно разделено, в то врема как при слишком большом значении дерево поделится недостаточно, что приведет сооответственно к переобученности или недообученности"
   ]
  }
 ],
 "metadata": {
  "kernelspec": {
   "display_name": "Python 3",
   "language": "python",
   "name": "python3"
  },
  "language_info": {
   "codemirror_mode": {
    "name": "ipython",
    "version": 3
   },
   "file_extension": ".py",
   "mimetype": "text/x-python",
   "name": "python",
   "nbconvert_exporter": "python",
   "pygments_lexer": "ipython3",
   "version": "3.5.3"
  }
 },
 "nbformat": 4,
 "nbformat_minor": 2
}
